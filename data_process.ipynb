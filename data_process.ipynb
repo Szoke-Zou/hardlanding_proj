{
 "cells": [
  {
   "cell_type": "code",
   "execution_count": 1,
   "id": "7ec9cbcc-8297-42f5-b304-929ab7246941",
   "metadata": {},
   "outputs": [],
   "source": [
    "import pandas as pd\n",
    "import numpy as np\n",
    "import os\n",
    "import torch\n",
    "import torch.nn as nn"
   ]
  },
  {
   "cell_type": "code",
   "execution_count": 12,
   "id": "3de4744d-243c-44bf-b7a8-bff7617b6ff4",
   "metadata": {},
   "outputs": [],
   "source": [
    "folder = r\"../lib/total_data\"\n",
    "res_folder = r\"../lib/attention_model_data\"\n",
    "\n",
    "hard_landing_threshold = 1.6\n",
    "heavy_landing_threshold = 1.9\n",
    "\n",
    "columns_to_extract = [5, 8, 11, 12, 13, 14, 15, 16, 19, 26, 28, 30, 32, 33, 34, 35, 36, 37, 41, 42, 43, 44, 45]\n",
    "column_names = ['FLIGHT PHASE', 'DIST TO PSEUDO THRESHOLD', 'COMPUTED AIRSPEED', 'VERTICAL SPEED',\n",
    "                'VERTICAL ACCELERATION ACQ', 'CAP DISP HEADING', 'LOCALIZER DEV IN DOTS',\n",
    "                'GLIDE DEVIATION IN DOTS', 'FLIGHT PATH ANGLE', 'RADIO ALTITUDE', 'PITCH ANGLE',\n",
    "                'ROLL ANGLE', 'N11', 'N22', 'SELTD N1 INDICATED 1', 'SELTD N1 INDICATED 2',\n",
    "                'WIND SPEED', 'WIND DIRECTION', 'CONTROL COLUMN POSITION',\n",
    "                'CONTROL WHEEL POSITION', 'RUDDER PEDAL', 'THROTTLE ANGLE1', 'THROTTLE ANGLE2',]\n",
    "\n"
   ]
  },
  {
   "cell_type": "code",
   "execution_count": null,
   "id": "b4f26175-110d-4151-bccb-e2fcd752b671",
   "metadata": {},
   "outputs": [],
   "source": [
    "# 数据选择 选择垂直加速度最大的点为时间点t，分别选择[t-30,t],[t-30,t-2],[t-30,t-4]三个时间段\n",
    "# 参考的论文:<A Dual Two-Stage Attention-based Model for interpretable hard landing prediction from flight data>\n",
    "\n",
    "target_y = []\n",
    "target_x_30s = []\n",
    "target_x_28s = []\n",
    "target_x_26s = []\n",
    "\n",
    "file_names = os.listdir(folder)\n",
    "\n",
    "\n",
    "for f in file_name:\n",
    "    file = os.path.join(directory, f)#连接文件路径\n",
    "    df = pd.read_csv(file, skiprows=[0, 1, 3, 4], header=0)#读文件\n",
    "\n",
    "    df = df.iloc[:,columns_to_extract]\n",
    "    df.columns = column_names\n",
    "    \n",
    "    #分割时间片段\n",
    "    max_g_index =  df['VERTICAL ACCELERATION ACQ'].idxmax()\n",
    "    df_30s = df.iloc[max_g_index - 30, max_g_index]\n",
    "    df_28s = df.iloc[max_g_index - 30, max_g_index - 2]\n",
    "    df_26s = df.iloc[max_g_index - 30, max_g_index - 4]\n",
    "\n",
    "    # 给样本打上标签\n",
    "    max_g = df['VERTICAL ACCELERATION ACQ'].iloc[max_g_index]\n",
    "    if max_g < 1:\n",
    "        print(\"最大g值小于1，可能发生错误\")\n",
    "        print(\"max_g:\", max_g)\n",
    "    if max_g < hard_landing_threshold and max_g > 1:\n",
    "        category = 0\n",
    "    elif max_g < heavy_landing_threshold:\n",
    "        category = 1\n",
    "    else:\n",
    "        category = 2\n",
    "    target_y.append(category)\n",
    "\n",
    "    target_x_30s.append(df_30s)\n",
    "    target_x_28s.append(df_28s)\n",
    "    target_x_26s.append(df_26s)\n",
    "\n",
    "    #\n",
    "\n"
   ]
  },
  {
   "cell_type": "code",
   "execution_count": 6,
   "id": "88224bcb-5b4a-49fc-86fa-267a3f80431f",
   "metadata": {},
   "outputs": [
    {
     "data": {
      "text/html": [
       "<div>\n",
       "<style scoped>\n",
       "    .dataframe tbody tr th:only-of-type {\n",
       "        vertical-align: middle;\n",
       "    }\n",
       "\n",
       "    .dataframe tbody tr th {\n",
       "        vertical-align: top;\n",
       "    }\n",
       "\n",
       "    .dataframe thead th {\n",
       "        text-align: right;\n",
       "    }\n",
       "</style>\n",
       "<table border=\"1\" class=\"dataframe\">\n",
       "  <thead>\n",
       "    <tr style=\"text-align: right;\">\n",
       "      <th></th>\n",
       "      <th>A</th>\n",
       "      <th>B</th>\n",
       "      <th>C</th>\n",
       "    </tr>\n",
       "  </thead>\n",
       "  <tbody>\n",
       "    <tr>\n",
       "      <th>0</th>\n",
       "      <td>1</td>\n",
       "      <td>4</td>\n",
       "      <td>7</td>\n",
       "    </tr>\n",
       "    <tr>\n",
       "      <th>1</th>\n",
       "      <td>5</td>\n",
       "      <td>2</td>\n",
       "      <td>6</td>\n",
       "    </tr>\n",
       "    <tr>\n",
       "      <th>2</th>\n",
       "      <td>3</td>\n",
       "      <td>8</td>\n",
       "      <td>9</td>\n",
       "    </tr>\n",
       "  </tbody>\n",
       "</table>\n",
       "</div>"
      ],
      "text/plain": [
       "   A  B  C\n",
       "0  1  4  7\n",
       "1  5  2  6\n",
       "2  3  8  9"
      ]
     },
     "execution_count": 6,
     "metadata": {},
     "output_type": "execute_result"
    }
   ],
   "source": [
    "data = pd.DataFrame({\n",
    "'A': [1, 5, 3],\n",
    "'B': [4, 2, 8],\n",
    "'C': [7, 6, 9]\n",
    "})\n",
    "data"
   ]
  },
  {
   "cell_type": "code",
   "execution_count": 11,
   "id": "ec28d70a-8f47-4926-bbb4-f280774e1e55",
   "metadata": {},
   "outputs": [
    {
     "data": {
      "text/plain": [
       "5"
      ]
     },
     "execution_count": 11,
     "metadata": {},
     "output_type": "execute_result"
    }
   ],
   "source": [
    "data['A'].iloc[1]"
   ]
  },
  {
   "cell_type": "code",
   "execution_count": null,
   "id": "80820c83-b423-4b35-9dac-4e3a59e47a23",
   "metadata": {},
   "outputs": [],
   "source": []
  }
 ],
 "metadata": {
  "kernelspec": {
   "display_name": "Python 3 (ipykernel)",
   "language": "python",
   "name": "python3"
  },
  "language_info": {
   "codemirror_mode": {
    "name": "ipython",
    "version": 3
   },
   "file_extension": ".py",
   "mimetype": "text/x-python",
   "name": "python",
   "nbconvert_exporter": "python",
   "pygments_lexer": "ipython3",
   "version": "3.12.7"
  }
 },
 "nbformat": 4,
 "nbformat_minor": 5
}
