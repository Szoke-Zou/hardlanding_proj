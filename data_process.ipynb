{
 "cells": [
  {
   "cell_type": "code",
   "execution_count": 1,
   "id": "7ec9cbcc-8297-42f5-b304-929ab7246941",
   "metadata": {},
   "outputs": [],
   "source": [
    "import pandas as pd\n",
    "import numpy as np\n",
    "import os\n",
    "import torch\n",
    "import torch.nn as nn"
   ]
  },
  {
   "cell_type": "code",
   "execution_count": 2,
   "id": "3de4744d-243c-44bf-b7a8-bff7617b6ff4",
   "metadata": {},
   "outputs": [],
   "source": [
    "folder = r\"../lib/total_data\"\n",
    "file_names = os.listdir(folder)\n",
    "folder_30s = r\"../lib/attention_model_data/30s\"\n",
    "folder_28s = r\"../lib/attention_model_data/28s\"\n",
    "folder_26s = r\"../lib/attention_model_data/26s\"\n",
    "\n",
    "hard_landing_threshold = 1.6\n",
    "heavy_landing_threshold = 1.9\n",
    "\n",
    "columns_to_extract = [5, 8, 11, 12, 13, 14, 15, 16, 19, 26, 28, 30, 32, 33, 34, 35, 36, 37, 41, 42, 43, 44, 45]\n",
    "column_names = ['FLIGHT PHASE', 'DIST TO PSEUDO THRESHOLD', 'COMPUTED AIRSPEED', 'VERTICAL SPEED',\n",
    "                'VERTICAL ACCELERATION ACQ', 'CAP DISP HEADING', 'LOCALIZER DEV IN DOTS',\n",
    "                'GLIDE DEVIATION IN DOTS', 'FLIGHT PATH ANGLE', 'RADIO ALTITUDE', 'PITCH ANGLE',\n",
    "                'ROLL ANGLE', 'N11', 'N22', 'SELTD N1 INDICATED 1', 'SELTD N1 INDICATED 2',\n",
    "                'WIND SPEED', 'WIND DIRECTION', 'CONTROL COLUMN POSITION',\n",
    "                'CONTROL WHEEL POSITION', 'RUDDER PEDAL', 'THROTTLE ANGLE1', 'THROTTLE ANGLE2',]"
   ]
  },
  {
   "cell_type": "code",
   "execution_count": 3,
   "id": "b4f26175-110d-4151-bccb-e2fcd752b671",
   "metadata": {
    "collapsed": true,
    "jupyter": {
     "outputs_hidden": true
    }
   },
   "outputs": [
    {
     "name": "stderr",
     "output_type": "stream",
     "text": [
      "C:\\Users\\Szoke\\AppData\\Local\\Temp\\ipykernel_5952\\378309212.py:11: DtypeWarning: Columns (6) have mixed types. Specify dtype option on import or set low_memory=False.\n",
      "  df = pd.read_csv(file, skiprows=[0, 1, 3, 4], header=0)\n",
      "C:\\Users\\Szoke\\AppData\\Local\\Temp\\ipykernel_5952\\378309212.py:11: DtypeWarning: Columns (6) have mixed types. Specify dtype option on import or set low_memory=False.\n",
      "  df = pd.read_csv(file, skiprows=[0, 1, 3, 4], header=0)\n",
      "C:\\Users\\Szoke\\AppData\\Local\\Temp\\ipykernel_5952\\378309212.py:11: DtypeWarning: Columns (6) have mixed types. Specify dtype option on import or set low_memory=False.\n",
      "  df = pd.read_csv(file, skiprows=[0, 1, 3, 4], header=0)\n",
      "C:\\Users\\Szoke\\AppData\\Local\\Temp\\ipykernel_5952\\378309212.py:11: DtypeWarning: Columns (6) have mixed types. Specify dtype option on import or set low_memory=False.\n",
      "  df = pd.read_csv(file, skiprows=[0, 1, 3, 4], header=0)\n",
      "C:\\Users\\Szoke\\AppData\\Local\\Temp\\ipykernel_5952\\378309212.py:11: DtypeWarning: Columns (6) have mixed types. Specify dtype option on import or set low_memory=False.\n",
      "  df = pd.read_csv(file, skiprows=[0, 1, 3, 4], header=0)\n",
      "C:\\Users\\Szoke\\AppData\\Local\\Temp\\ipykernel_5952\\378309212.py:11: DtypeWarning: Columns (6) have mixed types. Specify dtype option on import or set low_memory=False.\n",
      "  df = pd.read_csv(file, skiprows=[0, 1, 3, 4], header=0)\n",
      "C:\\Users\\Szoke\\AppData\\Local\\Temp\\ipykernel_5952\\378309212.py:11: DtypeWarning: Columns (6) have mixed types. Specify dtype option on import or set low_memory=False.\n",
      "  df = pd.read_csv(file, skiprows=[0, 1, 3, 4], header=0)\n",
      "C:\\Users\\Szoke\\AppData\\Local\\Temp\\ipykernel_5952\\378309212.py:11: DtypeWarning: Columns (6) have mixed types. Specify dtype option on import or set low_memory=False.\n",
      "  df = pd.read_csv(file, skiprows=[0, 1, 3, 4], header=0)\n",
      "C:\\Users\\Szoke\\AppData\\Local\\Temp\\ipykernel_5952\\378309212.py:11: DtypeWarning: Columns (6) have mixed types. Specify dtype option on import or set low_memory=False.\n",
      "  df = pd.read_csv(file, skiprows=[0, 1, 3, 4], header=0)\n",
      "C:\\Users\\Szoke\\AppData\\Local\\Temp\\ipykernel_5952\\378309212.py:11: DtypeWarning: Columns (6) have mixed types. Specify dtype option on import or set low_memory=False.\n",
      "  df = pd.read_csv(file, skiprows=[0, 1, 3, 4], header=0)\n",
      "C:\\Users\\Szoke\\AppData\\Local\\Temp\\ipykernel_5952\\378309212.py:11: DtypeWarning: Columns (6) have mixed types. Specify dtype option on import or set low_memory=False.\n",
      "  df = pd.read_csv(file, skiprows=[0, 1, 3, 4], header=0)\n",
      "C:\\Users\\Szoke\\AppData\\Local\\Temp\\ipykernel_5952\\378309212.py:11: DtypeWarning: Columns (6) have mixed types. Specify dtype option on import or set low_memory=False.\n",
      "  df = pd.read_csv(file, skiprows=[0, 1, 3, 4], header=0)\n",
      "C:\\Users\\Szoke\\AppData\\Local\\Temp\\ipykernel_5952\\378309212.py:11: DtypeWarning: Columns (6) have mixed types. Specify dtype option on import or set low_memory=False.\n",
      "  df = pd.read_csv(file, skiprows=[0, 1, 3, 4], header=0)\n"
     ]
    }
   ],
   "source": [
    "# 数据选择 选择垂直加速度最大的点为时间点t，分别选择[t-30,t],[t-30,t-2],[t-30,t-4]三个时间段\n",
    "# 参考的论文:<A Dual Two-Stage Attention-based Model for interpretable hard landing prediction from flight data>\n",
    "target_y = []\n",
    "target_x_30s = []\n",
    "target_x_28s = []\n",
    "target_x_26s = []\n",
    "\n",
    "for f in file_names:\n",
    "    # 读文件\n",
    "    file = os.path.join(folder, f)\n",
    "    df = pd.read_csv(file, skiprows=[0, 1, 3, 4], header=0)\n",
    "    df = df.iloc[:,columns_to_extract]\n",
    "    df.columns = column_names\n",
    "    \n",
    "    #分割时间片段\n",
    "    max_g_index =  df['VERTICAL ACCELERATION ACQ'].idxmax()\n",
    "    df_30s = df.iloc[max_g_index - 30: max_g_index]\n",
    "    df_28s = df.iloc[max_g_index - 30: max_g_index - 2]\n",
    "    df_26s = df.iloc[max_g_index - 30: max_g_index - 4]\n",
    "\n",
    "    #选择训练所使用的特征\n",
    "    selected_column_names = ['DIST TO PSEUDO THRESHOLD', 'COMPUTED AIRSPEED', 'VERTICAL SPEED', 'CAP DISP HEADING', 'LOCALIZER DEV IN DOTS',\n",
    "                             'GLIDE DEVIATION IN DOTS', 'FLIGHT PATH ANGLE', 'RADIO ALTITUDE', 'PITCH ANGLE','ROLL ANGLE', 'N11', 'N22',\n",
    "                             'SELTD N1 INDICATED 1', 'SELTD N1 INDICATED 2','WIND SPEED', 'WIND DIRECTION', 'CONTROL COLUMN POSITION',\n",
    "                             'CONTROL WHEEL POSITION', 'RUDDER PEDAL', 'THROTTLE ANGLE1', 'THROTTLE ANGLE2',]\n",
    "    df_30s = df_30s[selected_column_names]\n",
    "    df_30s.reset_index(drop=True, inplace=True)\n",
    "    \n",
    "    df_28s = df_28s[selected_column_names]\n",
    "    df_28s.reset_index(drop=True, inplace=True)\n",
    "    \n",
    "    df_26s = df_26s[selected_column_names]\n",
    "    df_26s.reset_index(drop=True, inplace=True)\n",
    "    \n",
    "    # 给样本打上标签\n",
    "    max_g = df['VERTICAL ACCELERATION ACQ'].iloc[max_g_index]\n",
    "    if max_g < 1:\n",
    "        print(\"最大g值小于1，可能发生错误\")\n",
    "        print(\"max_g:\", max_g)\n",
    "    if max_g < hard_landing_threshold and max_g > 1:\n",
    "        category = 0\n",
    "    elif max_g < heavy_landing_threshold:\n",
    "        category = 1\n",
    "    else:\n",
    "        category = 2\n",
    "        \n",
    "    # 暂存数据\n",
    "    target_y.append(category)\n",
    "    \n",
    "    res_x_30s = os.path.join(folder_30s, f)\n",
    "    df_30s.to_csv(res_x_30s, index=False)\n",
    "    \n",
    "    res_x_28s = os.path.join(folder_28s, f)\n",
    "    df_28s.to_csv(res_x_28s, index=False)\n",
    "    \n",
    "    res_x_26s = os.path.join(folder_26s, f)\n",
    "    df_26s.to_csv(res_x_30s, index=False)\n"
   ]
  }
 ],
 "metadata": {
  "kernelspec": {
   "display_name": "Python 3 (ipykernel)",
   "language": "python",
   "name": "python3"
  },
  "language_info": {
   "codemirror_mode": {
    "name": "ipython",
    "version": 3
   },
   "file_extension": ".py",
   "mimetype": "text/x-python",
   "name": "python",
   "nbconvert_exporter": "python",
   "pygments_lexer": "ipython3",
   "version": "3.12.7"
  }
 },
 "nbformat": 4,
 "nbformat_minor": 5
}
